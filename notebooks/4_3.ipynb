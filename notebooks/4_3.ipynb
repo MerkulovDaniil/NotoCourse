{
  "nbformat": 4,
  "nbformat_minor": 0,
  "metadata": {
    "colab": {
      "name": "4_3.ipynb",
      "provenance": [],
      "authorship_tag": "ABX9TyO3tKHQiSK3JF9k7jJlbYwq",
      "include_colab_link": true
    },
    "kernelspec": {
      "name": "python3",
      "display_name": "Python 3"
    },
    "language_info": {
      "name": "python"
    },
    "accelerator": "GPU"
  },
  "cells": [
    {
      "cell_type": "markdown",
      "metadata": {
        "id": "view-in-github",
        "colab_type": "text"
      },
      "source": [
        "<a href=\"https://colab.research.google.com/github/MerkulovDaniil/sber21_fmin/blob/sources/notebooks/4_3.ipynb\" target=\"_parent\"><img src=\"https://colab.research.google.com/assets/colab-badge.svg\" alt=\"Open In Colab\"/></a>"
      ]
    },
    {
      "cell_type": "markdown",
      "metadata": {
        "id": "IlmMikR6ov-P"
      },
      "source": [
        "# Subgradient"
      ]
    },
    {
      "cell_type": "markdown",
      "metadata": {
        "id": "BF8na1sNoyjh"
      },
      "source": [
        "## Subgradient calculus\n"
      ]
    },
    {
      "cell_type": "markdown",
      "metadata": {
        "id": "Gy-3ZVFRfxIe"
      },
      "source": [
        "Find $\\partial f(x)$, if $$f(x) = \\text{ReLU}(x) = \\max \\{0, x\\}$$"
      ]
    },
    {
      "cell_type": "markdown",
      "metadata": {
        "id": "lzo5bVNtoVqI"
      },
      "source": [
        "<font color=\"lime\"> ==YOUR ANSWER== </font>"
      ]
    },
    {
      "cell_type": "markdown",
      "metadata": {
        "id": "54T1MoPBgGXf"
      },
      "source": [
        "Find $\\partial f(x)$, if:\n",
        "\n",
        "$$\n",
        "f(x)=\\left|x-5\\right|+2\\left|10-x\\right|\\ +\\ 5\\left|x-9\\right|\n",
        "$$"
      ]
    },
    {
      "cell_type": "markdown",
      "metadata": {
        "id": "eySPItrxoWXR"
      },
      "source": [
        "<font color=\"lime\"> ==YOUR ANSWER== </font>"
      ]
    }
  ]
}