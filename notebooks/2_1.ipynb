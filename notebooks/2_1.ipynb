{
  "nbformat": 4,
  "nbformat_minor": 0,
  "metadata": {
    "colab": {
      "name": "2_1.ipynb",
      "provenance": [],
      "authorship_tag": "ABX9TyMBu66LbG6QDMBNrONAiUJ/",
      "include_colab_link": true
    },
    "kernelspec": {
      "name": "python3",
      "display_name": "Python 3"
    },
    "language_info": {
      "name": "python"
    }
  },
  "cells": [
    {
      "cell_type": "markdown",
      "metadata": {
        "id": "view-in-github",
        "colab_type": "text"
      },
      "source": [
        "<a href=\"https://colab.research.google.com/github/MerkulovDaniil/sber21_fmin/blob/sources/notebooks/2_1.ipynb\" target=\"_parent\"><img src=\"https://colab.research.google.com/assets/colab-badge.svg\" alt=\"Open In Colab\"/></a>"
      ]
    },
    {
      "cell_type": "markdown",
      "metadata": {
        "id": "jilBh_x1aO31"
      },
      "source": [
        "# Matrix calculus 1"
      ]
    },
    {
      "cell_type": "markdown",
      "metadata": {
        "id": "yj2jRY3xdGpS"
      },
      "source": [
        "## (a)\n",
        "Find the hessian of\n",
        "\n",
        "$$\n",
        "f(x) = \\dfrac{1}{2}x^TAx + b^Tx + c\n",
        "$$"
      ]
    },
    {
      "cell_type": "markdown",
      "metadata": {
        "id": "30SAINmfdZvE"
      },
      "source": [
        ""
      ]
    },
    {
      "cell_type": "markdown",
      "metadata": {
        "id": "V1N3YgssbVeb"
      },
      "source": [
        "##  (b)\n",
        "Calculate $df(x)$ and $\\nabla f(x)$ for the function \n",
        "\n",
        "$$\n",
        "f(x) = \\log(x^{\\top}Ax).\n",
        "$$"
      ]
    },
    {
      "cell_type": "markdown",
      "metadata": {
        "id": "b7nH7xOUdGTx"
      },
      "source": [
        ""
      ]
    },
    {
      "cell_type": "markdown",
      "metadata": {
        "id": "0VzefRKkdaHD"
      },
      "source": [
        "## (c)\n",
        "\n",
        "Find the gradient of\n",
        "\n",
        "$$\n",
        "f(X) = tr(AXB)\n",
        "$$"
      ]
    },
    {
      "cell_type": "markdown",
      "metadata": {
        "id": "_EUnnD3Admzl"
      },
      "source": [
        ""
      ]
    }
  ]
}