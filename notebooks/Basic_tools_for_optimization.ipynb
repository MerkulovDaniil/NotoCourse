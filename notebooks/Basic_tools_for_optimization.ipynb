{
  "nbformat": 4,
  "nbformat_minor": 0,
  "metadata": {
    "colab": {
      "name": "Basic tools for optimization.ipynb",
      "provenance": [],
      "authorship_tag": "ABX9TyNCZdbkqQEQSisqfzxurhFj",
      "include_colab_link": true
    },
    "kernelspec": {
      "name": "python3",
      "display_name": "Python 3"
    },
    "language_info": {
      "name": "python"
    }
  },
  "cells": [
    {
      "cell_type": "markdown",
      "metadata": {
        "id": "view-in-github",
        "colab_type": "text"
      },
      "source": [
        "<a href=\"https://colab.research.google.com/github/MerkulovDaniil/sber21_fmin/blob/sources/notebooks/Basic_tools_for_optimization.ipynb\" target=\"_parent\"><img src=\"https://colab.research.google.com/assets/colab-badge.svg\" alt=\"Open In Colab\"/></a>"
      ]
    },
    {
      "cell_type": "markdown",
      "metadata": {
        "id": "5mFoxmSGj9_v"
      },
      "source": [
        "### Linear programming\n",
        "A linear program is an optimization problem with a linear objective and affine inequality constraints. A common standard form is the following:\n",
        "$$  \n",
        "    \\begin{array}{ll}\n",
        "    \\mbox{minimize}   & c^Tx \\\\\n",
        "    \\mbox{subject to} & Ax \\leq b.\n",
        "    \\end{array}\n",
        "$$\n",
        "Here $A \\in \\mathbb{R}^{m \\times n}$, $b \\in \\mathbb{R}^m$, and $c \\in \\mathbb{R}^n$ are problem data and $x \\in \\mathbb{R}^{n}$ is the optimization variable. The inequality constraint $Ax \\leq b$ is elementwise."
      ]
    },
    {
      "cell_type": "code",
      "metadata": {
        "colab": {
          "base_uri": "https://localhost:8080/"
        },
        "id": "-Nuu3tR-lYDP",
        "outputId": "4abaec4e-4f5a-489e-8cc2-a04b8ddff282"
      },
      "source": [
        "# Import packages.\n",
        "import cvxpy as cp\n",
        "import numpy as np\n",
        "\n",
        "# Generate a random non-trivial linear program.\n",
        "m = 15\n",
        "n = 10\n",
        "np.random.seed(1)\n",
        "s0 = np.random.randn(m)\n",
        "lamb0 = np.maximum(-s0, 0)\n",
        "s0 = np.maximum(s0, 0)\n",
        "x0 = np.random.randn(n)\n",
        "A = np.random.randn(m, n)\n",
        "b = A@x0 + s0\n",
        "c = -A.T@lamb0\n",
        "\n",
        "# Define and solve the CVXPY problem.\n",
        "x = cp.Variable(n)\n",
        "prob = cp.Problem(cp.Minimize(c.T@x),\n",
        "                 [A@x <= b])\n",
        "prob.solve()\n",
        "\n",
        "# Print result.\n",
        "print(\"\\nThe optimal value is\", prob.value)\n",
        "print(\"A solution x is\")\n",
        "print(x.value)\n",
        "print(\"A dual solution is\")\n",
        "print(prob.constraints[0].dual_value)"
      ],
      "execution_count": null,
      "outputs": [
        {
          "output_type": "stream",
          "text": [
            "\n",
            "The optimal value is -15.220912605552895\n",
            "A solution x is\n",
            "[-1.10133381 -0.16360111 -0.89734939  0.03216603  0.6069123  -1.12687348\n",
            "  1.12967856  0.88176638  0.49075229  0.8984822 ]\n",
            "A dual solution is\n",
            "[6.98804566e-10 6.11756416e-01 5.28171747e-01 1.07296862e+00\n",
            " 3.93758849e-09 2.30153870e+00 4.25704004e-10 7.61206896e-01\n",
            " 8.36905607e-09 2.49370377e-01 1.30187004e-09 2.06014070e+00\n",
            " 3.22417207e-01 3.84054343e-01 1.59493641e-09]\n"
          ],
          "name": "stdout"
        }
      ]
    },
    {
      "cell_type": "code",
      "metadata": {
        "colab": {
          "base_uri": "https://localhost:8080/"
        },
        "id": "aLpAdJWKmumj",
        "outputId": "7b8ec0cf-49cf-408d-a492-093cfd9255fc"
      },
      "source": [
        "# The list of available solvers\n",
        "print(cp.installed_solvers())"
      ],
      "execution_count": null,
      "outputs": [
        {
          "output_type": "stream",
          "text": [
            "['CVXOPT', 'ECOS', 'ECOS_BB', 'GLPK', 'GLPK_MI', 'OSQP', 'SCS']\n"
          ],
          "name": "stdout"
        }
      ]
    },
    {
      "cell_type": "markdown",
      "metadata": {
        "id": "9PWo6KinKi95"
      },
      "source": [
        "Comparison of solvers\n",
        "\n",
        "|         | LP | QP | SOCP | SDP | EXP | MIP |\n",
        "|:-------:|:--:|:--:|:----:|:---:|:---:|:---:|\n",
        "|   CBC   |  X |    |      |     |     |  X  |\n",
        "|   GLPK  |  X |    |      |     |     |     |\n",
        "| GLPK_MI |  X |    |      |     |     |  X  |\n",
        "|   OSQP  |  X |  X |      |     |     |     |\n",
        "|  CPLEX  |  X |  X |   X  |     |     |  X  |\n",
        "|   NAG   |  X |  X |   X  |     |     |     |\n",
        "|   ECOS  |  X |  X |   X  |     |  X  |     |\n",
        "|  GUROBI |  X |  X |   X  |     |     |  X  |\n",
        "|  MOSEK  |  X |  X |   X  |  X  |  X  |  X* |\n",
        "|  CVXOPT |  X |  X |   X  |  X  |     |     |\n",
        "|   SCS   |  X |  X |   X  |  X  |  X  |     |\n",
        "|   SCIP  |  X |  X |   X  |     |     |  X  |\n",
        "|  XPRESS |  X |  X |   X  |     |     |  X  |\n",
        "\n",
        "(*) Except mixed-integer SDP."
      ]
    },
    {
      "cell_type": "markdown",
      "metadata": {
        "id": "ztny0J-HtKpF"
      },
      "source": [
        "### Time comparison\n"
      ]
    },
    {
      "cell_type": "code",
      "metadata": {
        "colab": {
          "base_uri": "https://localhost:8080/",
          "height": 625
        },
        "id": "8FNWcQx2tOc5",
        "outputId": "1cc1109e-8262-466e-e6d6-08b90bf4351c"
      },
      "source": [
        "from matplotlib import pyplot as plt\n",
        "import seaborn as sns\n",
        "import copy\n",
        "sns.set()\n",
        "for solver in cp.installed_solvers():\n",
        "    times = []\n",
        "    dimensions = [int(n) for n in np.linspace(10,100,10)]\n",
        "    dimensions_final = copy.deepcopy(dimensions)\n",
        "    for n in dimensions:\n",
        "        m = int(1.5*n)\n",
        "        np.random.seed(1)\n",
        "        X = np.random.randn(m, n)\n",
        "        y = np.random.randn(m)\n",
        "\n",
        "        # Construct the problem.\n",
        "        theta = cp.Variable(n)\n",
        "        objective = cp.Minimize(cp.sum_squares(X*theta - y))\n",
        "        constraints = [0 <= theta, theta <= 1]\n",
        "        prob = cp.Problem(objective, constraints)\n",
        "        try:\n",
        "            prob.solve(solver=solver)\n",
        "            times.append(prob.solver_stats.solve_time)\n",
        "        except:\n",
        "            dimensions_final.remove(n)\n",
        "            print(f\"{solver} failed with n = {n}\")\n",
        "\n",
        "    plt.semilogy(dimensions_final, times, label=solver)\n",
        "\n",
        "\n",
        "plt.legend()\n",
        "plt.xlabel('dimension')\n",
        "plt.ylabel('time')\n",
        "plt.show()"
      ],
      "execution_count": null,
      "outputs": [
        {
          "output_type": "stream",
          "text": [
            "GLPK failed with n = 10\n",
            "GLPK failed with n = 20\n",
            "GLPK failed with n = 30\n",
            "GLPK failed with n = 40\n",
            "GLPK failed with n = 50\n",
            "GLPK failed with n = 60\n",
            "GLPK failed with n = 70\n",
            "GLPK failed with n = 80\n",
            "GLPK failed with n = 90\n",
            "GLPK failed with n = 100\n",
            "GLPK_MI failed with n = 10\n",
            "GLPK_MI failed with n = 20\n",
            "GLPK_MI failed with n = 30\n",
            "GLPK_MI failed with n = 40\n",
            "GLPK_MI failed with n = 50\n",
            "GLPK_MI failed with n = 60\n",
            "GLPK_MI failed with n = 70\n",
            "GLPK_MI failed with n = 80\n",
            "GLPK_MI failed with n = 90\n",
            "GLPK_MI failed with n = 100\n"
          ],
          "name": "stdout"
        },
        {
          "output_type": "display_data",
          "data": {
            "image/png": "[encoded data removed]",
            "text/plain": [
              "<Figure size 432x288 with 1 Axes>"
            ]
          },
          "metadata": {
            "tags": []
          }
        }
      ]
    },
    {
      "cell_type": "markdown",
      "metadata": {
        "id": "WEAxcO2ZQSci"
      },
      "source": [
        "## ML frameworks\n",
        "\n",
        "However, in practice for huge scale neural networks optimization we often use stochastic gradient methods, like SGD, ADAM, ADMM and etc.\n",
        "\n",
        "![https://blog.exxactcorp.com/accelerated-automatic-differentiation-with-jax-how-does-it-stack-up-against-autograd-tensorflow-and-pytorch/](https://raw.githubusercontent.com/MerkulovDaniil/sber21_fmin/sources/images/mini_mlp_1024.png)"
      ]
    },
    {
      "cell_type": "markdown",
      "metadata": {
        "id": "PRoA17BSajVF"
      },
      "source": [
        "### Matrix multiplication"
      ]
    },
    {
      "cell_type": "code",
      "metadata": {
        "colab": {
          "base_uri": "https://localhost:8080/"
        },
        "id": "9mL4v7s3akQR",
        "outputId": "8e55defa-94bb-4575-8d9f-7ba7da9cceba"
      },
      "source": [
        "import torch\n",
        "import time\n",
        "import tensorflow as tf\n",
        "import jax.numpy as jnp\n",
        "from jax import grad, jit, vmap\n",
        "from jax import random\n",
        "\n",
        "m = 100\n",
        "n = int(1.5*m)\n",
        "k = int(1.5*n)\n",
        "\n",
        "A = torch.rand(m,n)\n",
        "B = torch.rand(n,k)\n",
        "\n",
        "start = time.time()\n",
        "C = A@B\n",
        "end = time.time()\n",
        "\n",
        "print(f'PyTorch Matmul: {end - start:.5f}')\n",
        "\n",
        "A = tf.random.normal((m,n))\n",
        "B = tf.random.normal((n,k))\n",
        "\n",
        "start = time.time()\n",
        "C = A@B\n",
        "end = time.time()\n",
        "\n",
        "print(f'TF Matmul: {end - start:.5f}')\n",
        "\n",
        "key = random.PRNGKey(0)\n",
        "A = random.normal(key, (m,n))\n",
        "B = random.normal(key, (n,k))\n",
        "\n",
        "start = time.time()\n",
        "C = A@B\n",
        "end = time.time()\n",
        "\n",
        "print(f'JAX Matmul: {end - start:.5f}')"
      ],
      "execution_count": null,
      "outputs": [
        {
          "output_type": "stream",
          "text": [
            "PyTorch Matmul: 0.06130\n",
            "TF Matmul: 1.40114\n",
            "JAX Matmul: 0.00827\n"
          ],
          "name": "stdout"
        }
      ]
    },
    {
      "cell_type": "code",
      "metadata": {
        "colab": {
          "base_uri": "https://localhost:8080/"
        },
        "id": "lQhCh4Zkej3C",
        "outputId": "ea282703-9675-4f1b-ffea-6267670039b3"
      },
      "source": [
        "A = torch.rand(m,n)\n",
        "B = torch.rand(n,k)\n",
        "\n",
        "print('PyTorch')\n",
        "%timeit C = A@B\n",
        "\n",
        "# ======\n",
        "A = tf.random.normal((m,n))\n",
        "B = tf.random.normal((n,k))\n",
        "\n",
        "print('TF')\n",
        "%timeit C = A@B\n",
        "# ======\n",
        "\n",
        "print(f'TF Matmul: {end - start:.5f}')\n",
        "\n",
        "key = random.PRNGKey(0)\n",
        "A = random.normal(key, (m,n))\n",
        "B = random.normal(key, (n,k))\n",
        "\n",
        "print('JAX')\n",
        "%timeit C = A@B"
      ],
      "execution_count": null,
      "outputs": [
        {
          "output_type": "stream",
          "text": [
            "PyTorch\n",
            "The slowest run took 4.53 times longer than the fastest. This could mean that an intermediate result is being cached.\n",
            "10000 loops, best of 3: 134 µs per loop\n",
            "TF\n",
            "The slowest run took 5.64 times longer than the fastest. This could mean that an intermediate result is being cached.\n",
            "10000 loops, best of 3: 55.4 µs per loop\n",
            "TF Matmul: 0.00827\n",
            "JAX\n",
            "1000 loops, best of 3: 338 µs per loop\n",
            "JAX jit\n",
            "The slowest run took 11.24 times longer than the fastest. This could mean that an intermediate result is being cached.\n",
            "1000 loops, best of 3: 349 µs per loop\n"
          ],
          "name": "stdout"
        }
      ]
    },
    {
      "cell_type": "markdown",
      "metadata": {
        "id": "G_EBzVxqOktf"
      },
      "source": [
        "## Example"
      ]
    },
    {
      "cell_type": "markdown",
      "metadata": {
        "id": "-BNVWWoDO_OA"
      },
      "source": [
        "In this task you get acquinted with [scipy.optimize](https://docs.scipy.org/doc/scipy/reference/optimize.html) for optimization"
      ]
    },
    {
      "cell_type": "code",
      "metadata": {
        "id": "z3BF0OYJq5TK"
      },
      "source": [
        "def test_f(x):\n",
        "    return x ** 2"
      ],
      "execution_count": null,
      "outputs": []
    },
    {
      "cell_type": "markdown",
      "metadata": {
        "id": "PlnOap_Bq9XJ"
      },
      "source": [
        "To optimize function you should use scipy.optimize.minimize. For this method you should pass optimized function $f(x)$ and initial point $x_0$"
      ]
    },
    {
      "cell_type": "code",
      "metadata": {
        "id": "jP80eSAvrGLe"
      },
      "source": [
        "from scipy.optimize import minimize"
      ],
      "execution_count": null,
      "outputs": []
    },
    {
      "cell_type": "code",
      "metadata": {
        "colab": {
          "base_uri": "https://localhost:8080/"
        },
        "id": "8w6oH6sqrIyP",
        "outputId": "e3406ed8-a548-4b74-8c78-25312b96a896"
      },
      "source": [
        "minimize(test_f, 10.0)"
      ],
      "execution_count": null,
      "outputs": [
        {
          "output_type": "execute_result",
          "data": {
            "text/plain": [
              "      fun: 1.7161984122524196e-15\n",
              " hess_inv: array([[0.50000001]])\n",
              "      jac: array([-6.79528891e-08])\n",
              "  message: 'Optimization terminated successfully.'\n",
              "     nfev: 15\n",
              "      nit: 4\n",
              "     njev: 5\n",
              "   status: 0\n",
              "  success: True\n",
              "        x: array([-4.14270251e-08])"
            ]
          },
          "metadata": {
            "tags": []
          },
          "execution_count": 3
        }
      ]
    },
    {
      "cell_type": "markdown",
      "metadata": {
        "id": "BWAuGE91rknK"
      },
      "source": [
        "To implement constrainted optimization we should pass additional bound and constraint arguments.  \n",
        "In scipy it is conventional to use scipy.optimize.Bounds and scipy.optimize.LinearConstraint"
      ]
    },
    {
      "cell_type": "code",
      "metadata": {
        "id": "HYY1Q_pSWrGZ"
      },
      "source": [
        "from scipy.optimize import Bounds\n",
        "import numpy as np\n",
        "our_bounds = Bounds(np.array([1.0]), np.array([5.0])) ### The first argument set lower bound, the second argument set upper bound "
      ],
      "execution_count": null,
      "outputs": []
    },
    {
      "cell_type": "markdown",
      "metadata": {
        "id": "rIxtso3GsgGh"
      },
      "source": [
        "Let's check optimization of our function with constraints"
      ]
    },
    {
      "cell_type": "code",
      "metadata": {
        "colab": {
          "base_uri": "https://localhost:8080/"
        },
        "id": "HlGMomAaspt5",
        "outputId": "b282118e-59b0-478d-f08d-85d2893847d9"
      },
      "source": [
        "minimize(test_f, [4.0], bounds=our_bounds)"
      ],
      "execution_count": null,
      "outputs": [
        {
          "output_type": "execute_result",
          "data": {
            "text/plain": [
              "      fun: array([1.])\n",
              " hess_inv: <1x1 LbfgsInvHessProduct with dtype=float64>\n",
              "      jac: array([1.99999999])\n",
              "  message: b'CONVERGENCE: NORM_OF_PROJECTED_GRADIENT_<=_PGTOL'\n",
              "     nfev: 4\n",
              "      nit: 1\n",
              "   status: 0\n",
              "  success: True\n",
              "        x: array([1.])"
            ]
          },
          "metadata": {
            "tags": []
          },
          "execution_count": 6
        }
      ]
    },
    {
      "cell_type": "markdown",
      "metadata": {
        "id": "Ra5okllKtUR8"
      },
      "source": [
        "Also, there are linear constraints $Ax \\leq b$, which is implemented through scipy.optimize.LinearConstraint"
      ]
    },
    {
      "cell_type": "code",
      "metadata": {
        "id": "4lVtWBNvWvC7"
      },
      "source": [
        "import numpy as np\n",
        "from scipy.optimize import LinearConstraint\n",
        "\"\"\"\n",
        "First argument is A matrix, the second is lower bound vector and the third is upper bound vector\n",
        "\"\"\"\n",
        "linear_constraint = LinearConstraint ([[1]], [-np.inf], [1]) "
      ],
      "execution_count": null,
      "outputs": []
    },
    {
      "cell_type": "code",
      "metadata": {
        "colab": {
          "base_uri": "https://localhost:8080/"
        },
        "id": "C2lA4Nkgt5tM",
        "outputId": "c1d36732-2adc-4008-8e90-3c5ae1c5753e"
      },
      "source": [
        "minimize(test_f, [-4.0], constraints=linear_constraint)"
      ],
      "execution_count": null,
      "outputs": [
        {
          "output_type": "execute_result",
          "data": {
            "text/plain": [
              "     fun: 3.552706902540154e-17\n",
              "     jac: array([2.98024361e-09])\n",
              " message: 'Optimization terminated successfully.'\n",
              "    nfev: 9\n",
              "     nit: 3\n",
              "    njev: 3\n",
              "  status: 0\n",
              " success: True\n",
              "       x: array([-5.96045879e-09])"
            ]
          },
          "metadata": {
            "tags": []
          },
          "execution_count": 8
        }
      ]
    }
  ]
}